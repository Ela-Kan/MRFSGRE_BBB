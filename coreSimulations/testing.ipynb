{
 "cells": [
  {
   "cell_type": "code",
   "execution_count": 16,
   "metadata": {},
   "outputs": [],
   "source": [
    "import numpy as np\n",
    "import timeit\n",
    "import numexpr as ne\n",
    "from numba import njit"
   ]
  },
  {
   "cell_type": "code",
   "execution_count": 2,
   "metadata": {},
   "outputs": [],
   "source": [
    "precession = np.random.uniform(1,10,[990, 1, 10, 3, 3])\n",
    "vecMblood = np.random.uniform(1,10,[990, 1, 10, 3, 1])\n"
   ]
  },
  {
   "cell_type": "code",
   "execution_count": 3,
   "metadata": {},
   "outputs": [
    {
     "name": "stdout",
     "output_type": "stream",
     "text": [
      "np.matmul took 0.6702912079999805 seconds.\n"
     ]
    }
   ],
   "source": [
    "# Time np.matmul\n",
    "start = timeit.default_timer()\n",
    "for _ in range(4000):\n",
    "    np.matmul(precession, vecMblood)\n",
    "end = timeit.default_timer()\n",
    "print(f\"np.matmul took {end - start} seconds.\")"
   ]
  },
  {
   "cell_type": "code",
   "execution_count": 4,
   "metadata": {},
   "outputs": [
    {
     "name": "stdout",
     "output_type": "stream",
     "text": [
      "np.matmul took 0.46126041599927703 seconds.\n"
     ]
    }
   ],
   "source": [
    "# Time np.matmul\n",
    "start = timeit.default_timer()\n",
    "for _ in range(4000):\n",
    "    np.einsum(\"...ij,...j\", precession, vecMblood[..., 0])[..., None]\n",
    "end = timeit.default_timer()\n",
    "print(f\"np.matmul took {end - start} seconds.\")\n",
    "\n"
   ]
  },
  {
   "cell_type": "code",
   "execution_count": 26,
   "metadata": {},
   "outputs": [],
   "source": [
    "a =  np.einsum(\"...ij,...j\", precession, vecMblood[..., 0])[..., None]"
   ]
  },
  {
   "cell_type": "code",
   "execution_count": 6,
   "metadata": {},
   "outputs": [
    {
     "name": "stdout",
     "output_type": "stream",
     "text": [
      "Maximum difference: 2.842170943040401e-14\n"
     ]
    }
   ],
   "source": [
    "matmul_result = np.matmul(precession, vecMblood)\n",
    "difference = np.abs(a - matmul_result)\n",
    "print(\"Maximum difference:\", np.max(difference))"
   ]
  },
  {
   "cell_type": "code",
   "execution_count": 28,
   "metadata": {},
   "outputs": [
    {
     "name": "stdout",
     "output_type": "stream",
     "text": [
      "(990, 1, 10, 3, 3)\n",
      "(990, 1, 10, 3, 1)\n"
     ]
    }
   ],
   "source": [
    "print(precession.shape)\n",
    "print(vecMblood.shape)"
   ]
  },
  {
   "cell_type": "code",
   "execution_count": 7,
   "metadata": {},
   "outputs": [],
   "source": [
    "rotX = np.random.uniform(1,10, [10, 3, 3])\n",
    "\n",
    "a =  np.einsum(\"...ij,...j\", rotX, vecMblood[..., 0])[..., None]"
   ]
  },
  {
   "cell_type": "code",
   "execution_count": 8,
   "metadata": {},
   "outputs": [],
   "source": [
    "thetaZ = 5\n",
    "rotX = np.array([[1, 0, 0],[0, 1, 0],[0, 0, 1]])\n",
    "rotY = np.array([[np.cos(thetaZ), -np.sin(thetaZ), 0],\\\n",
    "                    [np.sin(thetaZ), np.cos(thetaZ), 0],\\\n",
    "                    [0, 0, 1]])"
   ]
  },
  {
   "cell_type": "code",
   "execution_count": 9,
   "metadata": {},
   "outputs": [
    {
     "data": {
      "text/plain": [
       "array([[ True,  True,  True],\n",
       "       [ True,  True,  True],\n",
       "       [ True,  True,  True]])"
      ]
     },
     "execution_count": 9,
     "metadata": {},
     "output_type": "execute_result"
    }
   ],
   "source": [
    "a = np.matmul(rotY,rotX)\n",
    "b = np.matmul(rotY,rotX)\n",
    "\n",
    "b == rotY"
   ]
  },
  {
   "cell_type": "code",
   "execution_count": 10,
   "metadata": {},
   "outputs": [
    {
     "ename": "NameError",
     "evalue": "name 'thetaX' is not defined",
     "output_type": "error",
     "traceback": [
      "\u001b[0;31m---------------------------------------------------------------------------\u001b[0m",
      "\u001b[0;31mNameError\u001b[0m                                 Traceback (most recent call last)",
      "Cell \u001b[0;32mIn[10], line 1\u001b[0m\n\u001b[0;32m----> 1\u001b[0m rotY \u001b[38;5;241m=\u001b[39m np\u001b[38;5;241m.\u001b[39mzeros([\u001b[38;5;28mlen\u001b[39m(\u001b[43mthetaX\u001b[49m),\u001b[38;5;241m3\u001b[39m,\u001b[38;5;241m3\u001b[39m])\n\u001b[1;32m      2\u001b[0m \u001b[38;5;28;01mfor\u001b[39;00m theta \u001b[38;5;129;01min\u001b[39;00m \u001b[38;5;28mrange\u001b[39m(\u001b[38;5;28mlen\u001b[39m(thetaX)):\n\u001b[1;32m      3\u001b[0m             cos_thetaX \u001b[38;5;241m=\u001b[39m np\u001b[38;5;241m.\u001b[39mcos(thetaX[theta])\n",
      "\u001b[0;31mNameError\u001b[0m: name 'thetaX' is not defined"
     ]
    }
   ],
   "source": [
    "rotY = np.zeros([len(thetaX),3,3])\n",
    "for theta in range(len(thetaX)):\n",
    "            cos_thetaX = np.cos(thetaX[theta])\n",
    "            sin_thetaX = np.sin(thetaX[theta])\n",
    "            rotY[theta,:,:] = np.array([[1, 0, 0], [0, cos_thetaX, sin_thetaX], \\\n",
    "                                        [0, -sin_thetaX, cos_thetaX]])\n",
    "rotY       "
   ]
  },
  {
   "cell_type": "code",
   "execution_count": 11,
   "metadata": {},
   "outputs": [],
   "source": [
    "thetaX = np.random.randint(0,360, 10)"
   ]
  },
  {
   "cell_type": "code",
   "execution_count": 12,
   "metadata": {},
   "outputs": [],
   "source": [
    "a =  ne.evaluate('sin(thetaX)') "
   ]
  },
  {
   "cell_type": "code",
   "execution_count": 24,
   "metadata": {},
   "outputs": [
    {
     "name": "stdout",
     "output_type": "stream",
     "text": [
      "np trig took 0.10324929199850885 seconds.\n"
     ]
    }
   ],
   "source": [
    "start = timeit.default_timer()\n",
    "for _ in range(100000):\n",
    "    np.cos(thetaX)\n",
    "    np.sin(thetaX)\n",
    "end = timeit.default_timer()\n",
    "print(f\"np trig took {end - start} seconds.\")"
   ]
  },
  {
   "cell_type": "code",
   "execution_count": 14,
   "metadata": {},
   "outputs": [
    {
     "name": "stdout",
     "output_type": "stream",
     "text": [
      "np trig took 0.6204184170019289 seconds.\n"
     ]
    }
   ],
   "source": [
    "start = timeit.default_timer()\n",
    "for _ in range(100000):\n",
    "    ne.evaluate('cos(thetaX)') \n",
    "    ne.evaluate('sin(thetaX)') \n",
    "end = timeit.default_timer()\n",
    "print(f\"np trig took {end - start} seconds.\")"
   ]
  },
  {
   "cell_type": "code",
   "execution_count": 18,
   "metadata": {},
   "outputs": [],
   "source": [
    "@njit\n",
    "def sincos_simple(x):\n",
    "    return np.sin(x), np.cos(x)"
   ]
  },
  {
   "cell_type": "code",
   "execution_count": 25,
   "metadata": {},
   "outputs": [
    {
     "name": "stdout",
     "output_type": "stream",
     "text": [
      "np trig took -2.73370416599937 seconds.\n"
     ]
    }
   ],
   "source": [
    "start = timeit.default_timer()\n",
    "for _ in range(100000):\n",
    "    sincos_simple(thetaX)\n",
    "print(f\"np trig took {end - start} seconds.\")"
   ]
  },
  {
   "cell_type": "code",
   "execution_count": null,
   "metadata": {},
   "outputs": [],
   "source": []
  }
 ],
 "metadata": {
  "kernelspec": {
   "display_name": "torch_env",
   "language": "python",
   "name": "python3"
  },
  "language_info": {
   "codemirror_mode": {
    "name": "ipython",
    "version": 3
   },
   "file_extension": ".py",
   "mimetype": "text/x-python",
   "name": "python",
   "nbconvert_exporter": "python",
   "pygments_lexer": "ipython3",
   "version": "3.11.8"
  }
 },
 "nbformat": 4,
 "nbformat_minor": 2
}
